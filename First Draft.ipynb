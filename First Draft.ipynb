{
 "cells": [
  {
   "cell_type": "code",
   "execution_count": 7,
   "id": "f19b97a9-2a2c-4d8e-b251-021e452c34ae",
   "metadata": {},
   "outputs": [
    {
     "name": "stdout",
     "output_type": "stream",
     "text": [
      "Dataset Info:\n",
      "<class 'pandas.core.frame.DataFrame'>\n",
      "RangeIndex: 51 entries, 0 to 50\n",
      "Data columns (total 13 columns):\n",
      " #   Column                                     Non-Null Count  Dtype  \n",
      "---  ------                                     --------------  -----  \n",
      " 0   Background characteristic                  50 non-null     object \n",
      " 1   Has at least one developmental difficulty  44 non-null     object \n",
      " 2   Difficulty in seeing                       44 non-null     object \n",
      " 3   Difficulty in hearing                      44 non-null     object \n",
      " 4   Can't understand words                     44 non-null     object \n",
      " 5   Difficulty in understanding the child      44 non-null     object \n",
      " 6   Late in standing up and walking            44 non-null     object \n",
      " 7   Child's speech not clear                   44 non-null     object \n",
      " 8   Difficulty in walking/moving hands         44 non-null     object \n",
      " 9   Suffers from convulsions                   44 non-null     object \n",
      " 10  Fits like other slowness                   44 non-null     object \n",
      " 11  Shows signs of mental underdevelopment     44 non-null     object \n",
      " 12  Number of children                         44 non-null     float64\n",
      "dtypes: float64(1), object(12)\n",
      "memory usage: 5.3+ KB\n",
      "None\n",
      "\n",
      "First 5 Rows:\n",
      "  Background characteristic Has at least one developmental difficulty  \\\n",
      "0                       Age                                       NaN   \n",
      "1                         2                                      25.3   \n",
      "2                         3                                      22.9   \n",
      "3                         4                                        23   \n",
      "4                         5                                      19.6   \n",
      "\n",
      "  Difficulty in seeing Difficulty in hearing Can't understand words  \\\n",
      "0                  NaN                   NaN                    NaN   \n",
      "1                  0.6                   1.5                    6.2   \n",
      "2                  0.5                   1.5                      6   \n",
      "3                  0.7                   2.1                    5.8   \n",
      "4                  0.7                   2.1                    5.8   \n",
      "\n",
      "  Difficulty in understanding the child Late in standing up and walking  \\\n",
      "0                                   NaN                             NaN   \n",
      "1                                   2.6                             2.8   \n",
      "2                                   1.7                             1.8   \n",
      "3                                   1.4                             1.6   \n",
      "4                                   1.4                             1.8   \n",
      "\n",
      "  Child's speech not clear Difficulty in walking/moving hands  \\\n",
      "0                      NaN                                NaN   \n",
      "1                     10.4                                2.2   \n",
      "2                      8.8                                2.1   \n",
      "3                      8.5                                1.2   \n",
      "4                      8.2                                1.8   \n",
      "\n",
      "  Suffers from convulsions Fits like other slowness  \\\n",
      "0                      NaN                      NaN   \n",
      "1                        2                      3.7   \n",
      "2                      1.7                      3.4   \n",
      "3                      2.8                        3   \n",
      "4                      2.9                      3.3   \n",
      "\n",
      "  Shows signs of mental underdevelopment  Number of children  \n",
      "0                                    NaN                 NaN  \n",
      "1                                    5.8              1684.0  \n",
      "2                                    5.4              2665.0  \n",
      "3                                    6.5              1691.0  \n",
      "4                                    5.6              1541.0  \n"
     ]
    }
   ],
   "source": [
    "import pandas as pd  \n",
    "\n",
    "# Load the Excel file (update the file path)\n",
    "file_path = r\"C:\\Users\\User\\Documents\\ML_Data.xlsx\"  # Update with actual path\n",
    "df = pd.read_excel(file_path)\n",
    "\n",
    "# Display dataset info\n",
    "print(\"Dataset Info:\")\n",
    "print(df.info())\n",
    "\n",
    "# Show the first few rows\n",
    "print(\"\\nFirst 5 Rows:\")\n",
    "print(df.head())\n"
   ]
  },
  {
   "cell_type": "code",
   "execution_count": 8,
   "id": "5e1343bb-7bd9-441f-94bf-68efceda75d8",
   "metadata": {},
   "outputs": [
    {
     "name": "stdout",
     "output_type": "stream",
     "text": [
      "\n",
      "Missing Values:\n",
      "background_characteristic                    0\n",
      "has_at_least_one_developmental_difficulty    7\n",
      "difficulty_in_seeing                         7\n",
      "difficulty_in_hearing                        7\n",
      "can't_understand_words                       7\n",
      "difficulty_in_understanding_the_child        7\n",
      "late_in_standing_up_and_walking              7\n",
      "child's_speech_not_clear                     7\n",
      "difficulty_in_walking/moving_hands           7\n",
      "suffers_from_convulsions                     7\n",
      "fits_like_other_slowness                     7\n",
      "shows_signs_of_mental_underdevelopment       7\n",
      "number_of_children                           6\n",
      "dtype: int64\n",
      "\n",
      "Cleaned Dataset Preview:\n",
      "  background_characteristic  has_at_least_one_developmental_difficulty  \\\n",
      "0                       Age                                        NaN   \n",
      "1                         2                                       25.3   \n",
      "2                         3                                       22.9   \n",
      "3                         4                                       23.0   \n",
      "4                         5                                       19.6   \n",
      "\n",
      "   difficulty_in_seeing  difficulty_in_hearing  can't_understand_words  \\\n",
      "0                   NaN                    NaN                     NaN   \n",
      "1                   0.6                    1.5                     6.2   \n",
      "2                   0.5                    1.5                     6.0   \n",
      "3                   0.7                    2.1                     5.8   \n",
      "4                   0.7                    2.1                     5.8   \n",
      "\n",
      "   difficulty_in_understanding_the_child  late_in_standing_up_and_walking  \\\n",
      "0                                    NaN                              NaN   \n",
      "1                                    2.6                              2.8   \n",
      "2                                    1.7                              1.8   \n",
      "3                                    1.4                              1.6   \n",
      "4                                    1.4                              1.8   \n",
      "\n",
      "   child's_speech_not_clear  difficulty_in_walking/moving_hands  \\\n",
      "0                       NaN                                 NaN   \n",
      "1                      10.4                                 2.2   \n",
      "2                       8.8                                 2.1   \n",
      "3                       8.5                                 1.2   \n",
      "4                       8.2                                 1.8   \n",
      "\n",
      "   suffers_from_convulsions  fits_like_other_slowness  \\\n",
      "0                       NaN                       NaN   \n",
      "1                       2.0                       3.7   \n",
      "2                       1.7                       3.4   \n",
      "3                       2.8                       3.0   \n",
      "4                       2.9                       3.3   \n",
      "\n",
      "   shows_signs_of_mental_underdevelopment  number_of_children  \n",
      "0                                     NaN                 NaN  \n",
      "1                                     5.8              1684.0  \n",
      "2                                     5.4              2665.0  \n",
      "3                                     6.5              1691.0  \n",
      "4                                     5.6              1541.0  \n"
     ]
    }
   ],
   "source": [
    "# Step 1: Drop any empty rows if necessary\n",
    "df = df.dropna(how='all')  \n",
    "\n",
    "# Step 2: Rename columns to remove spaces and make them easier to work with\n",
    "df.columns = df.columns.str.strip().str.lower().str.replace(\" \", \"_\")\n",
    "\n",
    "# Step 3: Convert numerical columns from object to float (if needed)\n",
    "num_cols = df.columns[1:]  # All except the first column\n",
    "df[num_cols] = df[num_cols].apply(pd.to_numeric, errors=\"coerce\")\n",
    "\n",
    "# Step 4: Check if missing values exist\n",
    "print(\"\\nMissing Values:\")\n",
    "print(df.isnull().sum())\n",
    "\n",
    "# Step 5: Display cleaned dataset\n",
    "print(\"\\nCleaned Dataset Preview:\")\n",
    "print(df.head())\n"
   ]
  },
  {
   "cell_type": "code",
   "execution_count": 9,
   "id": "2681b970-5bdd-4091-a17b-c464a06c2492",
   "metadata": {},
   "outputs": [
    {
     "ename": "TypeError",
     "evalue": "can only concatenate str (not \"int\") to str",
     "output_type": "error",
     "traceback": [
      "\u001b[1;31m---------------------------------------------------------------------------\u001b[0m",
      "\u001b[1;31mTypeError\u001b[0m                                 Traceback (most recent call last)",
      "Cell \u001b[1;32mIn[9], line 2\u001b[0m\n\u001b[0;32m      1\u001b[0m \u001b[38;5;66;03m# Step 1: Fill missing values in numerical columns with their column mean\u001b[39;00m\n\u001b[1;32m----> 2\u001b[0m df\u001b[38;5;241m.\u001b[39mfillna(df\u001b[38;5;241m.\u001b[39mmean(), inplace\u001b[38;5;241m=\u001b[39m\u001b[38;5;28;01mTrue\u001b[39;00m)\n\u001b[0;32m      4\u001b[0m \u001b[38;5;66;03m# Step 2: Check if missing values are now removed\u001b[39;00m\n\u001b[0;32m      5\u001b[0m \u001b[38;5;28mprint\u001b[39m(\u001b[38;5;124m\"\u001b[39m\u001b[38;5;130;01m\\n\u001b[39;00m\u001b[38;5;124mMissing Values After Filling:\u001b[39m\u001b[38;5;124m\"\u001b[39m)\n",
      "File \u001b[1;32m~\\Documents\\1602\\Lib\\site-packages\\pandas\\core\\frame.py:11693\u001b[0m, in \u001b[0;36mDataFrame.mean\u001b[1;34m(self, axis, skipna, numeric_only, **kwargs)\u001b[0m\n\u001b[0;32m  11685\u001b[0m \u001b[38;5;129m@doc\u001b[39m(make_doc(\u001b[38;5;124m\"\u001b[39m\u001b[38;5;124mmean\u001b[39m\u001b[38;5;124m\"\u001b[39m, ndim\u001b[38;5;241m=\u001b[39m\u001b[38;5;241m2\u001b[39m))\n\u001b[0;32m  11686\u001b[0m \u001b[38;5;28;01mdef\u001b[39;00m \u001b[38;5;21mmean\u001b[39m(\n\u001b[0;32m  11687\u001b[0m     \u001b[38;5;28mself\u001b[39m,\n\u001b[1;32m   (...)\u001b[0m\n\u001b[0;32m  11691\u001b[0m     \u001b[38;5;241m*\u001b[39m\u001b[38;5;241m*\u001b[39mkwargs,\n\u001b[0;32m  11692\u001b[0m ):\n\u001b[1;32m> 11693\u001b[0m     result \u001b[38;5;241m=\u001b[39m \u001b[38;5;28msuper\u001b[39m()\u001b[38;5;241m.\u001b[39mmean(axis, skipna, numeric_only, \u001b[38;5;241m*\u001b[39m\u001b[38;5;241m*\u001b[39mkwargs)\n\u001b[0;32m  11694\u001b[0m     \u001b[38;5;28;01mif\u001b[39;00m \u001b[38;5;28misinstance\u001b[39m(result, Series):\n\u001b[0;32m  11695\u001b[0m         result \u001b[38;5;241m=\u001b[39m result\u001b[38;5;241m.\u001b[39m__finalize__(\u001b[38;5;28mself\u001b[39m, method\u001b[38;5;241m=\u001b[39m\u001b[38;5;124m\"\u001b[39m\u001b[38;5;124mmean\u001b[39m\u001b[38;5;124m\"\u001b[39m)\n",
      "File \u001b[1;32m~\\Documents\\1602\\Lib\\site-packages\\pandas\\core\\generic.py:12420\u001b[0m, in \u001b[0;36mNDFrame.mean\u001b[1;34m(self, axis, skipna, numeric_only, **kwargs)\u001b[0m\n\u001b[0;32m  12413\u001b[0m \u001b[38;5;28;01mdef\u001b[39;00m \u001b[38;5;21mmean\u001b[39m(\n\u001b[0;32m  12414\u001b[0m     \u001b[38;5;28mself\u001b[39m,\n\u001b[0;32m  12415\u001b[0m     axis: Axis \u001b[38;5;241m|\u001b[39m \u001b[38;5;28;01mNone\u001b[39;00m \u001b[38;5;241m=\u001b[39m \u001b[38;5;241m0\u001b[39m,\n\u001b[1;32m   (...)\u001b[0m\n\u001b[0;32m  12418\u001b[0m     \u001b[38;5;241m*\u001b[39m\u001b[38;5;241m*\u001b[39mkwargs,\n\u001b[0;32m  12419\u001b[0m ) \u001b[38;5;241m-\u001b[39m\u001b[38;5;241m>\u001b[39m Series \u001b[38;5;241m|\u001b[39m \u001b[38;5;28mfloat\u001b[39m:\n\u001b[1;32m> 12420\u001b[0m     \u001b[38;5;28;01mreturn\u001b[39;00m \u001b[38;5;28mself\u001b[39m\u001b[38;5;241m.\u001b[39m_stat_function(\n\u001b[0;32m  12421\u001b[0m         \u001b[38;5;124m\"\u001b[39m\u001b[38;5;124mmean\u001b[39m\u001b[38;5;124m\"\u001b[39m, nanops\u001b[38;5;241m.\u001b[39mnanmean, axis, skipna, numeric_only, \u001b[38;5;241m*\u001b[39m\u001b[38;5;241m*\u001b[39mkwargs\n\u001b[0;32m  12422\u001b[0m     )\n",
      "File \u001b[1;32m~\\Documents\\1602\\Lib\\site-packages\\pandas\\core\\generic.py:12377\u001b[0m, in \u001b[0;36mNDFrame._stat_function\u001b[1;34m(self, name, func, axis, skipna, numeric_only, **kwargs)\u001b[0m\n\u001b[0;32m  12373\u001b[0m nv\u001b[38;5;241m.\u001b[39mvalidate_func(name, (), kwargs)\n\u001b[0;32m  12375\u001b[0m validate_bool_kwarg(skipna, \u001b[38;5;124m\"\u001b[39m\u001b[38;5;124mskipna\u001b[39m\u001b[38;5;124m\"\u001b[39m, none_allowed\u001b[38;5;241m=\u001b[39m\u001b[38;5;28;01mFalse\u001b[39;00m)\n\u001b[1;32m> 12377\u001b[0m \u001b[38;5;28;01mreturn\u001b[39;00m \u001b[38;5;28mself\u001b[39m\u001b[38;5;241m.\u001b[39m_reduce(\n\u001b[0;32m  12378\u001b[0m     func, name\u001b[38;5;241m=\u001b[39mname, axis\u001b[38;5;241m=\u001b[39maxis, skipna\u001b[38;5;241m=\u001b[39mskipna, numeric_only\u001b[38;5;241m=\u001b[39mnumeric_only\n\u001b[0;32m  12379\u001b[0m )\n",
      "File \u001b[1;32m~\\Documents\\1602\\Lib\\site-packages\\pandas\\core\\frame.py:11562\u001b[0m, in \u001b[0;36mDataFrame._reduce\u001b[1;34m(self, op, name, axis, skipna, numeric_only, filter_type, **kwds)\u001b[0m\n\u001b[0;32m  11558\u001b[0m     df \u001b[38;5;241m=\u001b[39m df\u001b[38;5;241m.\u001b[39mT\n\u001b[0;32m  11560\u001b[0m \u001b[38;5;66;03m# After possibly _get_data and transposing, we are now in the\u001b[39;00m\n\u001b[0;32m  11561\u001b[0m \u001b[38;5;66;03m#  simple case where we can use BlockManager.reduce\u001b[39;00m\n\u001b[1;32m> 11562\u001b[0m res \u001b[38;5;241m=\u001b[39m df\u001b[38;5;241m.\u001b[39m_mgr\u001b[38;5;241m.\u001b[39mreduce(blk_func)\n\u001b[0;32m  11563\u001b[0m out \u001b[38;5;241m=\u001b[39m df\u001b[38;5;241m.\u001b[39m_constructor_from_mgr(res, axes\u001b[38;5;241m=\u001b[39mres\u001b[38;5;241m.\u001b[39maxes)\u001b[38;5;241m.\u001b[39miloc[\u001b[38;5;241m0\u001b[39m]\n\u001b[0;32m  11564\u001b[0m \u001b[38;5;28;01mif\u001b[39;00m out_dtype \u001b[38;5;129;01mis\u001b[39;00m \u001b[38;5;129;01mnot\u001b[39;00m \u001b[38;5;28;01mNone\u001b[39;00m \u001b[38;5;129;01mand\u001b[39;00m out\u001b[38;5;241m.\u001b[39mdtype \u001b[38;5;241m!=\u001b[39m \u001b[38;5;124m\"\u001b[39m\u001b[38;5;124mboolean\u001b[39m\u001b[38;5;124m\"\u001b[39m:\n",
      "File \u001b[1;32m~\\Documents\\1602\\Lib\\site-packages\\pandas\\core\\internals\\managers.py:1500\u001b[0m, in \u001b[0;36mBlockManager.reduce\u001b[1;34m(self, func)\u001b[0m\n\u001b[0;32m   1498\u001b[0m res_blocks: \u001b[38;5;28mlist\u001b[39m[Block] \u001b[38;5;241m=\u001b[39m []\n\u001b[0;32m   1499\u001b[0m \u001b[38;5;28;01mfor\u001b[39;00m blk \u001b[38;5;129;01min\u001b[39;00m \u001b[38;5;28mself\u001b[39m\u001b[38;5;241m.\u001b[39mblocks:\n\u001b[1;32m-> 1500\u001b[0m     nbs \u001b[38;5;241m=\u001b[39m blk\u001b[38;5;241m.\u001b[39mreduce(func)\n\u001b[0;32m   1501\u001b[0m     res_blocks\u001b[38;5;241m.\u001b[39mextend(nbs)\n\u001b[0;32m   1503\u001b[0m index \u001b[38;5;241m=\u001b[39m Index([\u001b[38;5;28;01mNone\u001b[39;00m])  \u001b[38;5;66;03m# placeholder\u001b[39;00m\n",
      "File \u001b[1;32m~\\Documents\\1602\\Lib\\site-packages\\pandas\\core\\internals\\blocks.py:404\u001b[0m, in \u001b[0;36mBlock.reduce\u001b[1;34m(self, func)\u001b[0m\n\u001b[0;32m    398\u001b[0m \u001b[38;5;129m@final\u001b[39m\n\u001b[0;32m    399\u001b[0m \u001b[38;5;28;01mdef\u001b[39;00m \u001b[38;5;21mreduce\u001b[39m(\u001b[38;5;28mself\u001b[39m, func) \u001b[38;5;241m-\u001b[39m\u001b[38;5;241m>\u001b[39m \u001b[38;5;28mlist\u001b[39m[Block]:\n\u001b[0;32m    400\u001b[0m     \u001b[38;5;66;03m# We will apply the function and reshape the result into a single-row\u001b[39;00m\n\u001b[0;32m    401\u001b[0m     \u001b[38;5;66;03m#  Block with the same mgr_locs; squeezing will be done at a higher level\u001b[39;00m\n\u001b[0;32m    402\u001b[0m     \u001b[38;5;28;01massert\u001b[39;00m \u001b[38;5;28mself\u001b[39m\u001b[38;5;241m.\u001b[39mndim \u001b[38;5;241m==\u001b[39m \u001b[38;5;241m2\u001b[39m\n\u001b[1;32m--> 404\u001b[0m     result \u001b[38;5;241m=\u001b[39m func(\u001b[38;5;28mself\u001b[39m\u001b[38;5;241m.\u001b[39mvalues)\n\u001b[0;32m    406\u001b[0m     \u001b[38;5;28;01mif\u001b[39;00m \u001b[38;5;28mself\u001b[39m\u001b[38;5;241m.\u001b[39mvalues\u001b[38;5;241m.\u001b[39mndim \u001b[38;5;241m==\u001b[39m \u001b[38;5;241m1\u001b[39m:\n\u001b[0;32m    407\u001b[0m         res_values \u001b[38;5;241m=\u001b[39m result\n",
      "File \u001b[1;32m~\\Documents\\1602\\Lib\\site-packages\\pandas\\core\\frame.py:11481\u001b[0m, in \u001b[0;36mDataFrame._reduce.<locals>.blk_func\u001b[1;34m(values, axis)\u001b[0m\n\u001b[0;32m  11479\u001b[0m         \u001b[38;5;28;01mreturn\u001b[39;00m np\u001b[38;5;241m.\u001b[39marray([result])\n\u001b[0;32m  11480\u001b[0m \u001b[38;5;28;01melse\u001b[39;00m:\n\u001b[1;32m> 11481\u001b[0m     \u001b[38;5;28;01mreturn\u001b[39;00m op(values, axis\u001b[38;5;241m=\u001b[39maxis, skipna\u001b[38;5;241m=\u001b[39mskipna, \u001b[38;5;241m*\u001b[39m\u001b[38;5;241m*\u001b[39mkwds)\n",
      "File \u001b[1;32m~\\Documents\\1602\\Lib\\site-packages\\pandas\\core\\nanops.py:147\u001b[0m, in \u001b[0;36mbottleneck_switch.__call__.<locals>.f\u001b[1;34m(values, axis, skipna, **kwds)\u001b[0m\n\u001b[0;32m    145\u001b[0m         result \u001b[38;5;241m=\u001b[39m alt(values, axis\u001b[38;5;241m=\u001b[39maxis, skipna\u001b[38;5;241m=\u001b[39mskipna, \u001b[38;5;241m*\u001b[39m\u001b[38;5;241m*\u001b[39mkwds)\n\u001b[0;32m    146\u001b[0m \u001b[38;5;28;01melse\u001b[39;00m:\n\u001b[1;32m--> 147\u001b[0m     result \u001b[38;5;241m=\u001b[39m alt(values, axis\u001b[38;5;241m=\u001b[39maxis, skipna\u001b[38;5;241m=\u001b[39mskipna, \u001b[38;5;241m*\u001b[39m\u001b[38;5;241m*\u001b[39mkwds)\n\u001b[0;32m    149\u001b[0m \u001b[38;5;28;01mreturn\u001b[39;00m result\n",
      "File \u001b[1;32m~\\Documents\\1602\\Lib\\site-packages\\pandas\\core\\nanops.py:404\u001b[0m, in \u001b[0;36m_datetimelike_compat.<locals>.new_func\u001b[1;34m(values, axis, skipna, mask, **kwargs)\u001b[0m\n\u001b[0;32m    401\u001b[0m \u001b[38;5;28;01mif\u001b[39;00m datetimelike \u001b[38;5;129;01mand\u001b[39;00m mask \u001b[38;5;129;01mis\u001b[39;00m \u001b[38;5;28;01mNone\u001b[39;00m:\n\u001b[0;32m    402\u001b[0m     mask \u001b[38;5;241m=\u001b[39m isna(values)\n\u001b[1;32m--> 404\u001b[0m result \u001b[38;5;241m=\u001b[39m func(values, axis\u001b[38;5;241m=\u001b[39maxis, skipna\u001b[38;5;241m=\u001b[39mskipna, mask\u001b[38;5;241m=\u001b[39mmask, \u001b[38;5;241m*\u001b[39m\u001b[38;5;241m*\u001b[39mkwargs)\n\u001b[0;32m    406\u001b[0m \u001b[38;5;28;01mif\u001b[39;00m datetimelike:\n\u001b[0;32m    407\u001b[0m     result \u001b[38;5;241m=\u001b[39m _wrap_results(result, orig_values\u001b[38;5;241m.\u001b[39mdtype, fill_value\u001b[38;5;241m=\u001b[39miNaT)\n",
      "File \u001b[1;32m~\\Documents\\1602\\Lib\\site-packages\\pandas\\core\\nanops.py:719\u001b[0m, in \u001b[0;36mnanmean\u001b[1;34m(values, axis, skipna, mask)\u001b[0m\n\u001b[0;32m    716\u001b[0m     dtype_count \u001b[38;5;241m=\u001b[39m dtype\n\u001b[0;32m    718\u001b[0m count \u001b[38;5;241m=\u001b[39m _get_counts(values\u001b[38;5;241m.\u001b[39mshape, mask, axis, dtype\u001b[38;5;241m=\u001b[39mdtype_count)\n\u001b[1;32m--> 719\u001b[0m the_sum \u001b[38;5;241m=\u001b[39m values\u001b[38;5;241m.\u001b[39msum(axis, dtype\u001b[38;5;241m=\u001b[39mdtype_sum)\n\u001b[0;32m    720\u001b[0m the_sum \u001b[38;5;241m=\u001b[39m _ensure_numeric(the_sum)\n\u001b[0;32m    722\u001b[0m \u001b[38;5;28;01mif\u001b[39;00m axis \u001b[38;5;129;01mis\u001b[39;00m \u001b[38;5;129;01mnot\u001b[39;00m \u001b[38;5;28;01mNone\u001b[39;00m \u001b[38;5;129;01mand\u001b[39;00m \u001b[38;5;28mgetattr\u001b[39m(the_sum, \u001b[38;5;124m\"\u001b[39m\u001b[38;5;124mndim\u001b[39m\u001b[38;5;124m\"\u001b[39m, \u001b[38;5;28;01mFalse\u001b[39;00m):\n",
      "File \u001b[1;32m~\\Documents\\1602\\Lib\\site-packages\\numpy\\core\\_methods.py:49\u001b[0m, in \u001b[0;36m_sum\u001b[1;34m(a, axis, dtype, out, keepdims, initial, where)\u001b[0m\n\u001b[0;32m     47\u001b[0m \u001b[38;5;28;01mdef\u001b[39;00m \u001b[38;5;21m_sum\u001b[39m(a, axis\u001b[38;5;241m=\u001b[39m\u001b[38;5;28;01mNone\u001b[39;00m, dtype\u001b[38;5;241m=\u001b[39m\u001b[38;5;28;01mNone\u001b[39;00m, out\u001b[38;5;241m=\u001b[39m\u001b[38;5;28;01mNone\u001b[39;00m, keepdims\u001b[38;5;241m=\u001b[39m\u001b[38;5;28;01mFalse\u001b[39;00m,\n\u001b[0;32m     48\u001b[0m          initial\u001b[38;5;241m=\u001b[39m_NoValue, where\u001b[38;5;241m=\u001b[39m\u001b[38;5;28;01mTrue\u001b[39;00m):\n\u001b[1;32m---> 49\u001b[0m     \u001b[38;5;28;01mreturn\u001b[39;00m umr_sum(a, axis, dtype, out, keepdims, initial, where)\n",
      "\u001b[1;31mTypeError\u001b[0m: can only concatenate str (not \"int\") to str"
     ]
    }
   ],
   "source": [
    "# Step 1: Fill missing values in numerical columns with their column mean\n",
    "df.fillna(df.mean(), inplace=True)\n",
    "\n",
    "# Step 2: Check if missing values are now removed\n",
    "print(\"\\nMissing Values After Filling:\")\n",
    "print(df.isnull().sum())\n",
    "\n",
    "# Step 3: Display final cleaned dataset\n",
    "print(\"\\nFinal Cleaned Dataset Preview:\")\n",
    "print(df.head())\n"
   ]
  },
  {
   "cell_type": "code",
   "execution_count": 10,
   "id": "f1888e90-433b-462b-a164-24ccb7c7aaad",
   "metadata": {},
   "outputs": [
    {
     "name": "stdout",
     "output_type": "stream",
     "text": [
      "\n",
      "Updated Data Types:\n",
      "background_characteristic                     object\n",
      "has_at_least_one_developmental_difficulty    float64\n",
      "difficulty_in_seeing                         float64\n",
      "difficulty_in_hearing                        float64\n",
      "can't_understand_words                       float64\n",
      "difficulty_in_understanding_the_child        float64\n",
      "late_in_standing_up_and_walking              float64\n",
      "child's_speech_not_clear                     float64\n",
      "difficulty_in_walking/moving_hands           float64\n",
      "suffers_from_convulsions                     float64\n",
      "fits_like_other_slowness                     float64\n",
      "shows_signs_of_mental_underdevelopment       float64\n",
      "number_of_children                           float64\n",
      "dtype: object\n"
     ]
    }
   ],
   "source": [
    "# Convert all columns (except 'background_characteristic') to numeric\n",
    "num_cols = df.columns[1:]  # Exclude first column (text-based)\n",
    "df[num_cols] = df[num_cols].apply(pd.to_numeric, errors=\"coerce\")\n",
    "\n",
    "# Check data types to confirm conversion\n",
    "print(\"\\nUpdated Data Types:\")\n",
    "print(df.dtypes)\n"
   ]
  },
  {
   "cell_type": "code",
   "execution_count": 11,
   "id": "3a6dffab-4033-4c6c-b4a7-cc6c2f6720af",
   "metadata": {},
   "outputs": [
    {
     "ename": "TypeError",
     "evalue": "can only concatenate str (not \"int\") to str",
     "output_type": "error",
     "traceback": [
      "\u001b[1;31m---------------------------------------------------------------------------\u001b[0m",
      "\u001b[1;31mTypeError\u001b[0m                                 Traceback (most recent call last)",
      "Cell \u001b[1;32mIn[11], line 2\u001b[0m\n\u001b[0;32m      1\u001b[0m \u001b[38;5;66;03m# Fill missing values in numerical columns with their column mean\u001b[39;00m\n\u001b[1;32m----> 2\u001b[0m df\u001b[38;5;241m.\u001b[39mfillna(df\u001b[38;5;241m.\u001b[39mmean(), inplace\u001b[38;5;241m=\u001b[39m\u001b[38;5;28;01mTrue\u001b[39;00m)\n\u001b[0;32m      4\u001b[0m \u001b[38;5;66;03m# Verify missing values are gone\u001b[39;00m\n\u001b[0;32m      5\u001b[0m \u001b[38;5;28mprint\u001b[39m(\u001b[38;5;124m\"\u001b[39m\u001b[38;5;130;01m\\n\u001b[39;00m\u001b[38;5;124mMissing Values After Filling:\u001b[39m\u001b[38;5;124m\"\u001b[39m)\n",
      "File \u001b[1;32m~\\Documents\\1602\\Lib\\site-packages\\pandas\\core\\frame.py:11693\u001b[0m, in \u001b[0;36mDataFrame.mean\u001b[1;34m(self, axis, skipna, numeric_only, **kwargs)\u001b[0m\n\u001b[0;32m  11685\u001b[0m \u001b[38;5;129m@doc\u001b[39m(make_doc(\u001b[38;5;124m\"\u001b[39m\u001b[38;5;124mmean\u001b[39m\u001b[38;5;124m\"\u001b[39m, ndim\u001b[38;5;241m=\u001b[39m\u001b[38;5;241m2\u001b[39m))\n\u001b[0;32m  11686\u001b[0m \u001b[38;5;28;01mdef\u001b[39;00m \u001b[38;5;21mmean\u001b[39m(\n\u001b[0;32m  11687\u001b[0m     \u001b[38;5;28mself\u001b[39m,\n\u001b[1;32m   (...)\u001b[0m\n\u001b[0;32m  11691\u001b[0m     \u001b[38;5;241m*\u001b[39m\u001b[38;5;241m*\u001b[39mkwargs,\n\u001b[0;32m  11692\u001b[0m ):\n\u001b[1;32m> 11693\u001b[0m     result \u001b[38;5;241m=\u001b[39m \u001b[38;5;28msuper\u001b[39m()\u001b[38;5;241m.\u001b[39mmean(axis, skipna, numeric_only, \u001b[38;5;241m*\u001b[39m\u001b[38;5;241m*\u001b[39mkwargs)\n\u001b[0;32m  11694\u001b[0m     \u001b[38;5;28;01mif\u001b[39;00m \u001b[38;5;28misinstance\u001b[39m(result, Series):\n\u001b[0;32m  11695\u001b[0m         result \u001b[38;5;241m=\u001b[39m result\u001b[38;5;241m.\u001b[39m__finalize__(\u001b[38;5;28mself\u001b[39m, method\u001b[38;5;241m=\u001b[39m\u001b[38;5;124m\"\u001b[39m\u001b[38;5;124mmean\u001b[39m\u001b[38;5;124m\"\u001b[39m)\n",
      "File \u001b[1;32m~\\Documents\\1602\\Lib\\site-packages\\pandas\\core\\generic.py:12420\u001b[0m, in \u001b[0;36mNDFrame.mean\u001b[1;34m(self, axis, skipna, numeric_only, **kwargs)\u001b[0m\n\u001b[0;32m  12413\u001b[0m \u001b[38;5;28;01mdef\u001b[39;00m \u001b[38;5;21mmean\u001b[39m(\n\u001b[0;32m  12414\u001b[0m     \u001b[38;5;28mself\u001b[39m,\n\u001b[0;32m  12415\u001b[0m     axis: Axis \u001b[38;5;241m|\u001b[39m \u001b[38;5;28;01mNone\u001b[39;00m \u001b[38;5;241m=\u001b[39m \u001b[38;5;241m0\u001b[39m,\n\u001b[1;32m   (...)\u001b[0m\n\u001b[0;32m  12418\u001b[0m     \u001b[38;5;241m*\u001b[39m\u001b[38;5;241m*\u001b[39mkwargs,\n\u001b[0;32m  12419\u001b[0m ) \u001b[38;5;241m-\u001b[39m\u001b[38;5;241m>\u001b[39m Series \u001b[38;5;241m|\u001b[39m \u001b[38;5;28mfloat\u001b[39m:\n\u001b[1;32m> 12420\u001b[0m     \u001b[38;5;28;01mreturn\u001b[39;00m \u001b[38;5;28mself\u001b[39m\u001b[38;5;241m.\u001b[39m_stat_function(\n\u001b[0;32m  12421\u001b[0m         \u001b[38;5;124m\"\u001b[39m\u001b[38;5;124mmean\u001b[39m\u001b[38;5;124m\"\u001b[39m, nanops\u001b[38;5;241m.\u001b[39mnanmean, axis, skipna, numeric_only, \u001b[38;5;241m*\u001b[39m\u001b[38;5;241m*\u001b[39mkwargs\n\u001b[0;32m  12422\u001b[0m     )\n",
      "File \u001b[1;32m~\\Documents\\1602\\Lib\\site-packages\\pandas\\core\\generic.py:12377\u001b[0m, in \u001b[0;36mNDFrame._stat_function\u001b[1;34m(self, name, func, axis, skipna, numeric_only, **kwargs)\u001b[0m\n\u001b[0;32m  12373\u001b[0m nv\u001b[38;5;241m.\u001b[39mvalidate_func(name, (), kwargs)\n\u001b[0;32m  12375\u001b[0m validate_bool_kwarg(skipna, \u001b[38;5;124m\"\u001b[39m\u001b[38;5;124mskipna\u001b[39m\u001b[38;5;124m\"\u001b[39m, none_allowed\u001b[38;5;241m=\u001b[39m\u001b[38;5;28;01mFalse\u001b[39;00m)\n\u001b[1;32m> 12377\u001b[0m \u001b[38;5;28;01mreturn\u001b[39;00m \u001b[38;5;28mself\u001b[39m\u001b[38;5;241m.\u001b[39m_reduce(\n\u001b[0;32m  12378\u001b[0m     func, name\u001b[38;5;241m=\u001b[39mname, axis\u001b[38;5;241m=\u001b[39maxis, skipna\u001b[38;5;241m=\u001b[39mskipna, numeric_only\u001b[38;5;241m=\u001b[39mnumeric_only\n\u001b[0;32m  12379\u001b[0m )\n",
      "File \u001b[1;32m~\\Documents\\1602\\Lib\\site-packages\\pandas\\core\\frame.py:11562\u001b[0m, in \u001b[0;36mDataFrame._reduce\u001b[1;34m(self, op, name, axis, skipna, numeric_only, filter_type, **kwds)\u001b[0m\n\u001b[0;32m  11558\u001b[0m     df \u001b[38;5;241m=\u001b[39m df\u001b[38;5;241m.\u001b[39mT\n\u001b[0;32m  11560\u001b[0m \u001b[38;5;66;03m# After possibly _get_data and transposing, we are now in the\u001b[39;00m\n\u001b[0;32m  11561\u001b[0m \u001b[38;5;66;03m#  simple case where we can use BlockManager.reduce\u001b[39;00m\n\u001b[1;32m> 11562\u001b[0m res \u001b[38;5;241m=\u001b[39m df\u001b[38;5;241m.\u001b[39m_mgr\u001b[38;5;241m.\u001b[39mreduce(blk_func)\n\u001b[0;32m  11563\u001b[0m out \u001b[38;5;241m=\u001b[39m df\u001b[38;5;241m.\u001b[39m_constructor_from_mgr(res, axes\u001b[38;5;241m=\u001b[39mres\u001b[38;5;241m.\u001b[39maxes)\u001b[38;5;241m.\u001b[39miloc[\u001b[38;5;241m0\u001b[39m]\n\u001b[0;32m  11564\u001b[0m \u001b[38;5;28;01mif\u001b[39;00m out_dtype \u001b[38;5;129;01mis\u001b[39;00m \u001b[38;5;129;01mnot\u001b[39;00m \u001b[38;5;28;01mNone\u001b[39;00m \u001b[38;5;129;01mand\u001b[39;00m out\u001b[38;5;241m.\u001b[39mdtype \u001b[38;5;241m!=\u001b[39m \u001b[38;5;124m\"\u001b[39m\u001b[38;5;124mboolean\u001b[39m\u001b[38;5;124m\"\u001b[39m:\n",
      "File \u001b[1;32m~\\Documents\\1602\\Lib\\site-packages\\pandas\\core\\internals\\managers.py:1500\u001b[0m, in \u001b[0;36mBlockManager.reduce\u001b[1;34m(self, func)\u001b[0m\n\u001b[0;32m   1498\u001b[0m res_blocks: \u001b[38;5;28mlist\u001b[39m[Block] \u001b[38;5;241m=\u001b[39m []\n\u001b[0;32m   1499\u001b[0m \u001b[38;5;28;01mfor\u001b[39;00m blk \u001b[38;5;129;01min\u001b[39;00m \u001b[38;5;28mself\u001b[39m\u001b[38;5;241m.\u001b[39mblocks:\n\u001b[1;32m-> 1500\u001b[0m     nbs \u001b[38;5;241m=\u001b[39m blk\u001b[38;5;241m.\u001b[39mreduce(func)\n\u001b[0;32m   1501\u001b[0m     res_blocks\u001b[38;5;241m.\u001b[39mextend(nbs)\n\u001b[0;32m   1503\u001b[0m index \u001b[38;5;241m=\u001b[39m Index([\u001b[38;5;28;01mNone\u001b[39;00m])  \u001b[38;5;66;03m# placeholder\u001b[39;00m\n",
      "File \u001b[1;32m~\\Documents\\1602\\Lib\\site-packages\\pandas\\core\\internals\\blocks.py:404\u001b[0m, in \u001b[0;36mBlock.reduce\u001b[1;34m(self, func)\u001b[0m\n\u001b[0;32m    398\u001b[0m \u001b[38;5;129m@final\u001b[39m\n\u001b[0;32m    399\u001b[0m \u001b[38;5;28;01mdef\u001b[39;00m \u001b[38;5;21mreduce\u001b[39m(\u001b[38;5;28mself\u001b[39m, func) \u001b[38;5;241m-\u001b[39m\u001b[38;5;241m>\u001b[39m \u001b[38;5;28mlist\u001b[39m[Block]:\n\u001b[0;32m    400\u001b[0m     \u001b[38;5;66;03m# We will apply the function and reshape the result into a single-row\u001b[39;00m\n\u001b[0;32m    401\u001b[0m     \u001b[38;5;66;03m#  Block with the same mgr_locs; squeezing will be done at a higher level\u001b[39;00m\n\u001b[0;32m    402\u001b[0m     \u001b[38;5;28;01massert\u001b[39;00m \u001b[38;5;28mself\u001b[39m\u001b[38;5;241m.\u001b[39mndim \u001b[38;5;241m==\u001b[39m \u001b[38;5;241m2\u001b[39m\n\u001b[1;32m--> 404\u001b[0m     result \u001b[38;5;241m=\u001b[39m func(\u001b[38;5;28mself\u001b[39m\u001b[38;5;241m.\u001b[39mvalues)\n\u001b[0;32m    406\u001b[0m     \u001b[38;5;28;01mif\u001b[39;00m \u001b[38;5;28mself\u001b[39m\u001b[38;5;241m.\u001b[39mvalues\u001b[38;5;241m.\u001b[39mndim \u001b[38;5;241m==\u001b[39m \u001b[38;5;241m1\u001b[39m:\n\u001b[0;32m    407\u001b[0m         res_values \u001b[38;5;241m=\u001b[39m result\n",
      "File \u001b[1;32m~\\Documents\\1602\\Lib\\site-packages\\pandas\\core\\frame.py:11481\u001b[0m, in \u001b[0;36mDataFrame._reduce.<locals>.blk_func\u001b[1;34m(values, axis)\u001b[0m\n\u001b[0;32m  11479\u001b[0m         \u001b[38;5;28;01mreturn\u001b[39;00m np\u001b[38;5;241m.\u001b[39marray([result])\n\u001b[0;32m  11480\u001b[0m \u001b[38;5;28;01melse\u001b[39;00m:\n\u001b[1;32m> 11481\u001b[0m     \u001b[38;5;28;01mreturn\u001b[39;00m op(values, axis\u001b[38;5;241m=\u001b[39maxis, skipna\u001b[38;5;241m=\u001b[39mskipna, \u001b[38;5;241m*\u001b[39m\u001b[38;5;241m*\u001b[39mkwds)\n",
      "File \u001b[1;32m~\\Documents\\1602\\Lib\\site-packages\\pandas\\core\\nanops.py:147\u001b[0m, in \u001b[0;36mbottleneck_switch.__call__.<locals>.f\u001b[1;34m(values, axis, skipna, **kwds)\u001b[0m\n\u001b[0;32m    145\u001b[0m         result \u001b[38;5;241m=\u001b[39m alt(values, axis\u001b[38;5;241m=\u001b[39maxis, skipna\u001b[38;5;241m=\u001b[39mskipna, \u001b[38;5;241m*\u001b[39m\u001b[38;5;241m*\u001b[39mkwds)\n\u001b[0;32m    146\u001b[0m \u001b[38;5;28;01melse\u001b[39;00m:\n\u001b[1;32m--> 147\u001b[0m     result \u001b[38;5;241m=\u001b[39m alt(values, axis\u001b[38;5;241m=\u001b[39maxis, skipna\u001b[38;5;241m=\u001b[39mskipna, \u001b[38;5;241m*\u001b[39m\u001b[38;5;241m*\u001b[39mkwds)\n\u001b[0;32m    149\u001b[0m \u001b[38;5;28;01mreturn\u001b[39;00m result\n",
      "File \u001b[1;32m~\\Documents\\1602\\Lib\\site-packages\\pandas\\core\\nanops.py:404\u001b[0m, in \u001b[0;36m_datetimelike_compat.<locals>.new_func\u001b[1;34m(values, axis, skipna, mask, **kwargs)\u001b[0m\n\u001b[0;32m    401\u001b[0m \u001b[38;5;28;01mif\u001b[39;00m datetimelike \u001b[38;5;129;01mand\u001b[39;00m mask \u001b[38;5;129;01mis\u001b[39;00m \u001b[38;5;28;01mNone\u001b[39;00m:\n\u001b[0;32m    402\u001b[0m     mask \u001b[38;5;241m=\u001b[39m isna(values)\n\u001b[1;32m--> 404\u001b[0m result \u001b[38;5;241m=\u001b[39m func(values, axis\u001b[38;5;241m=\u001b[39maxis, skipna\u001b[38;5;241m=\u001b[39mskipna, mask\u001b[38;5;241m=\u001b[39mmask, \u001b[38;5;241m*\u001b[39m\u001b[38;5;241m*\u001b[39mkwargs)\n\u001b[0;32m    406\u001b[0m \u001b[38;5;28;01mif\u001b[39;00m datetimelike:\n\u001b[0;32m    407\u001b[0m     result \u001b[38;5;241m=\u001b[39m _wrap_results(result, orig_values\u001b[38;5;241m.\u001b[39mdtype, fill_value\u001b[38;5;241m=\u001b[39miNaT)\n",
      "File \u001b[1;32m~\\Documents\\1602\\Lib\\site-packages\\pandas\\core\\nanops.py:719\u001b[0m, in \u001b[0;36mnanmean\u001b[1;34m(values, axis, skipna, mask)\u001b[0m\n\u001b[0;32m    716\u001b[0m     dtype_count \u001b[38;5;241m=\u001b[39m dtype\n\u001b[0;32m    718\u001b[0m count \u001b[38;5;241m=\u001b[39m _get_counts(values\u001b[38;5;241m.\u001b[39mshape, mask, axis, dtype\u001b[38;5;241m=\u001b[39mdtype_count)\n\u001b[1;32m--> 719\u001b[0m the_sum \u001b[38;5;241m=\u001b[39m values\u001b[38;5;241m.\u001b[39msum(axis, dtype\u001b[38;5;241m=\u001b[39mdtype_sum)\n\u001b[0;32m    720\u001b[0m the_sum \u001b[38;5;241m=\u001b[39m _ensure_numeric(the_sum)\n\u001b[0;32m    722\u001b[0m \u001b[38;5;28;01mif\u001b[39;00m axis \u001b[38;5;129;01mis\u001b[39;00m \u001b[38;5;129;01mnot\u001b[39;00m \u001b[38;5;28;01mNone\u001b[39;00m \u001b[38;5;129;01mand\u001b[39;00m \u001b[38;5;28mgetattr\u001b[39m(the_sum, \u001b[38;5;124m\"\u001b[39m\u001b[38;5;124mndim\u001b[39m\u001b[38;5;124m\"\u001b[39m, \u001b[38;5;28;01mFalse\u001b[39;00m):\n",
      "File \u001b[1;32m~\\Documents\\1602\\Lib\\site-packages\\numpy\\core\\_methods.py:49\u001b[0m, in \u001b[0;36m_sum\u001b[1;34m(a, axis, dtype, out, keepdims, initial, where)\u001b[0m\n\u001b[0;32m     47\u001b[0m \u001b[38;5;28;01mdef\u001b[39;00m \u001b[38;5;21m_sum\u001b[39m(a, axis\u001b[38;5;241m=\u001b[39m\u001b[38;5;28;01mNone\u001b[39;00m, dtype\u001b[38;5;241m=\u001b[39m\u001b[38;5;28;01mNone\u001b[39;00m, out\u001b[38;5;241m=\u001b[39m\u001b[38;5;28;01mNone\u001b[39;00m, keepdims\u001b[38;5;241m=\u001b[39m\u001b[38;5;28;01mFalse\u001b[39;00m,\n\u001b[0;32m     48\u001b[0m          initial\u001b[38;5;241m=\u001b[39m_NoValue, where\u001b[38;5;241m=\u001b[39m\u001b[38;5;28;01mTrue\u001b[39;00m):\n\u001b[1;32m---> 49\u001b[0m     \u001b[38;5;28;01mreturn\u001b[39;00m umr_sum(a, axis, dtype, out, keepdims, initial, where)\n",
      "\u001b[1;31mTypeError\u001b[0m: can only concatenate str (not \"int\") to str"
     ]
    }
   ],
   "source": [
    "# Fill missing values in numerical columns with their column mean\n",
    "df.fillna(df.mean(), inplace=True)\n",
    "\n",
    "# Verify missing values are gone\n",
    "print(\"\\nMissing Values After Filling:\")\n",
    "print(df.isnull().sum())\n",
    "\n",
    "# Display cleaned dataset\n",
    "print(\"\\nFinal Cleaned Dataset Preview:\")\n",
    "print(df.head())\n"
   ]
  },
  {
   "cell_type": "code",
   "execution_count": 12,
   "id": "a589652a-5609-445f-b02c-dad5101bc055",
   "metadata": {},
   "outputs": [
    {
     "name": "stdout",
     "output_type": "stream",
     "text": [
      "\n",
      "Updated Data Types:\n",
      "background_characteristic                     object\n",
      "has_at_least_one_developmental_difficulty    float64\n",
      "difficulty_in_seeing                         float64\n",
      "difficulty_in_hearing                        float64\n",
      "can't_understand_words                       float64\n",
      "difficulty_in_understanding_the_child        float64\n",
      "late_in_standing_up_and_walking              float64\n",
      "child's_speech_not_clear                     float64\n",
      "difficulty_in_walking/moving_hands           float64\n",
      "suffers_from_convulsions                     float64\n",
      "fits_like_other_slowness                     float64\n",
      "shows_signs_of_mental_underdevelopment       float64\n",
      "number_of_children                           float64\n",
      "dtype: object\n"
     ]
    }
   ],
   "source": [
    "# Convert all columns (except 'background_characteristic') to numeric, forcing errors to NaN\n",
    "num_cols = df.columns[1:]  # Exclude first column\n",
    "df[num_cols] = df[num_cols].apply(pd.to_numeric, errors=\"coerce\")\n",
    "\n",
    "# Verify data types\n",
    "print(\"\\nUpdated Data Types:\")\n",
    "print(df.dtypes)\n"
   ]
  },
  {
   "cell_type": "code",
   "execution_count": 13,
   "id": "dfb47808-6675-49f1-a8aa-0aed82f32fad",
   "metadata": {},
   "outputs": [
    {
     "name": "stdout",
     "output_type": "stream",
     "text": [
      "\n",
      "Missing Values After Filling:\n",
      "background_characteristic                    0\n",
      "has_at_least_one_developmental_difficulty    0\n",
      "difficulty_in_seeing                         0\n",
      "difficulty_in_hearing                        0\n",
      "can't_understand_words                       0\n",
      "difficulty_in_understanding_the_child        0\n",
      "late_in_standing_up_and_walking              0\n",
      "child's_speech_not_clear                     0\n",
      "difficulty_in_walking/moving_hands           0\n",
      "suffers_from_convulsions                     0\n",
      "fits_like_other_slowness                     0\n",
      "shows_signs_of_mental_underdevelopment       0\n",
      "number_of_children                           0\n",
      "dtype: int64\n",
      "\n",
      "Final Cleaned Dataset Preview:\n",
      "  background_characteristic  has_at_least_one_developmental_difficulty  \\\n",
      "0                       Age                                  23.706977   \n",
      "1                         2                                  25.300000   \n",
      "2                         3                                  22.900000   \n",
      "3                         4                                  23.000000   \n",
      "4                         5                                  19.600000   \n",
      "\n",
      "   difficulty_in_seeing  difficulty_in_hearing  can't_understand_words  \\\n",
      "0              0.704651               2.148837                 5.85814   \n",
      "1              0.600000               1.500000                 6.20000   \n",
      "2              0.500000               1.500000                 6.00000   \n",
      "3              0.700000               2.100000                 5.80000   \n",
      "4              0.700000               2.100000                 5.80000   \n",
      "\n",
      "   difficulty_in_understanding_the_child  late_in_standing_up_and_walking  \\\n",
      "0                               1.883721                         1.960465   \n",
      "1                               2.600000                         2.800000   \n",
      "2                               1.700000                         1.800000   \n",
      "3                               1.400000                         1.600000   \n",
      "4                               1.400000                         1.800000   \n",
      "\n",
      "   child's_speech_not_clear  difficulty_in_walking/moving_hands  \\\n",
      "0                  9.955814                            1.797674   \n",
      "1                 10.400000                            2.200000   \n",
      "2                  8.800000                            2.100000   \n",
      "3                  8.500000                            1.200000   \n",
      "4                  8.200000                            1.800000   \n",
      "\n",
      "   suffers_from_convulsions  fits_like_other_slowness  \\\n",
      "0                  2.183721                  3.595349   \n",
      "1                  2.000000                  3.700000   \n",
      "2                  1.700000                  3.400000   \n",
      "3                  2.800000                  3.000000   \n",
      "4                  2.900000                  3.300000   \n",
      "\n",
      "   shows_signs_of_mental_underdevelopment  number_of_children  \n",
      "0                                 5.37907         1069.727273  \n",
      "1                                 5.80000         1684.000000  \n",
      "2                                 5.40000         2665.000000  \n",
      "3                                 6.50000         1691.000000  \n",
      "4                                 5.60000         1541.000000  \n"
     ]
    }
   ],
   "source": [
    "# Fill missing values in numerical columns with column mean\n",
    "df[num_cols] = df[num_cols].apply(lambda x: x.fillna(x.mean()))\n",
    "\n",
    "# Verify missing values are gone\n",
    "print(\"\\nMissing Values After Filling:\")\n",
    "print(df.isnull().sum())\n",
    "\n",
    "# Display final cleaned dataset\n",
    "print(\"\\nFinal Cleaned Dataset Preview:\")\n",
    "print(df.head())\n"
   ]
  },
  {
   "cell_type": "code",
   "execution_count": 14,
   "id": "ee1ea378-3beb-487e-9f30-321f61ff7c0d",
   "metadata": {},
   "outputs": [
    {
     "name": "stdout",
     "output_type": "stream",
     "text": [
      "has_at_least_one_developmental_difficulty\n",
      "1    50\n",
      "Name: count, dtype: int64\n"
     ]
    }
   ],
   "source": [
    "# Convert the target variable to binary (1 = Has difficulty, 0 = No difficulty)\n",
    "df[\"has_at_least_one_developmental_difficulty\"] = df[\"has_at_least_one_developmental_difficulty\"].apply(lambda x: 1 if x > 0 else 0)\n",
    "\n",
    "# Confirm the changes\n",
    "print(df[\"has_at_least_one_developmental_difficulty\"].value_counts())\n"
   ]
  },
  {
   "cell_type": "code",
   "execution_count": 15,
   "id": "1c4ad48a-721d-4874-b5d6-7641c681b816",
   "metadata": {},
   "outputs": [
    {
     "name": "stdout",
     "output_type": "stream",
     "text": [
      "Unique values in target column (before conversion):\n",
      "[1]\n"
     ]
    }
   ],
   "source": [
    "# Check unique values before converting\n",
    "print(\"Unique values in target column (before conversion):\")\n",
    "print(df[\"has_at_least_one_developmental_difficulty\"].unique())\n"
   ]
  },
  {
   "cell_type": "code",
   "execution_count": 16,
   "id": "2da6b501-345b-4d1a-8ae0-14dcc5c6c3a7",
   "metadata": {},
   "outputs": [
    {
     "name": "stdout",
     "output_type": "stream",
     "text": [
      "  background_characteristic  has_at_least_one_developmental_difficulty  \\\n",
      "0                       Age                                          1   \n",
      "1                         2                                          1   \n",
      "2                         3                                          1   \n",
      "3                         4                                          1   \n",
      "4                         5                                          1   \n",
      "\n",
      "   difficulty_in_seeing  difficulty_in_hearing  can't_understand_words  \\\n",
      "0              0.704651               2.148837                 5.85814   \n",
      "1              0.600000               1.500000                 6.20000   \n",
      "2              0.500000               1.500000                 6.00000   \n",
      "3              0.700000               2.100000                 5.80000   \n",
      "4              0.700000               2.100000                 5.80000   \n",
      "\n",
      "   difficulty_in_understanding_the_child  late_in_standing_up_and_walking  \\\n",
      "0                               1.883721                         1.960465   \n",
      "1                               2.600000                         2.800000   \n",
      "2                               1.700000                         1.800000   \n",
      "3                               1.400000                         1.600000   \n",
      "4                               1.400000                         1.800000   \n",
      "\n",
      "   child's_speech_not_clear  difficulty_in_walking/moving_hands  \\\n",
      "0                  9.955814                            1.797674   \n",
      "1                 10.400000                            2.200000   \n",
      "2                  8.800000                            2.100000   \n",
      "3                  8.500000                            1.200000   \n",
      "4                  8.200000                            1.800000   \n",
      "\n",
      "   suffers_from_convulsions  fits_like_other_slowness  \\\n",
      "0                  2.183721                  3.595349   \n",
      "1                  2.000000                  3.700000   \n",
      "2                  1.700000                  3.400000   \n",
      "3                  2.800000                  3.000000   \n",
      "4                  2.900000                  3.300000   \n",
      "\n",
      "   shows_signs_of_mental_underdevelopment  number_of_children  \n",
      "0                                 5.37907         1069.727273  \n",
      "1                                 5.80000         1684.000000  \n",
      "2                                 5.40000         2665.000000  \n",
      "3                                 6.50000         1691.000000  \n",
      "4                                 5.60000         1541.000000  \n"
     ]
    }
   ],
   "source": [
    "# Check the first few rows to see numerical columns that indicate severity\n",
    "print(df.head())\n"
   ]
  },
  {
   "cell_type": "code",
   "execution_count": 17,
   "id": "f996e989-6070-48a6-b434-573628f9332b",
   "metadata": {},
   "outputs": [
    {
     "name": "stdout",
     "output_type": "stream",
     "text": [
      "Training set size: (40, 11)\n",
      "Test set size: (10, 11)\n"
     ]
    }
   ],
   "source": [
    "from sklearn.model_selection import train_test_split\n",
    "\n",
    "# Define target variable (severity score)\n",
    "y = df[\"shows_signs_of_mental_underdevelopment\"]\n",
    "\n",
    "# Define feature variables (all other numerical columns except target)\n",
    "X = df.drop(columns=[\"shows_signs_of_mental_underdevelopment\", \"background_characteristic\"])  \n",
    "\n",
    "# Split into training and test sets (80% training, 20% test)\n",
    "X_train, X_test, y_train, y_test = train_test_split(X, y, test_size=0.2, random_state=42)\n",
    "\n",
    "# Check dataset shapes\n",
    "print(\"Training set size:\", X_train.shape)\n",
    "print(\"Test set size:\", X_test.shape)\n"
   ]
  },
  {
   "cell_type": "code",
   "execution_count": 18,
   "id": "68e1728c-69dc-4a16-969e-1460a12906ca",
   "metadata": {},
   "outputs": [
    {
     "name": "stdout",
     "output_type": "stream",
     "text": [
      "Model Performance:\n",
      "Mean Absolute Error (MAE): 0.7889370526336467\n",
      "Mean Squared Error (MSE): 1.5917874982734057\n",
      "R² Score: 0.6407830113609813\n"
     ]
    }
   ],
   "source": [
    "from sklearn.linear_model import LinearRegression\n",
    "from sklearn.metrics import mean_absolute_error, mean_squared_error, r2_score\n",
    "\n",
    "# Step 1: Initialize the model\n",
    "model = LinearRegression()\n",
    "\n",
    "# Step 2: Train the model\n",
    "model.fit(X_train, y_train)\n",
    "\n",
    "# Step 3: Make predictions on the test set\n",
    "y_pred = model.predict(X_test)\n",
    "\n",
    "# Step 4: Evaluate performance\n",
    "mae = mean_absolute_error(y_test, y_pred)\n",
    "mse = mean_squared_error(y_test, y_pred)\n",
    "r2 = r2_score(y_test, y_pred)\n",
    "\n",
    "# Display results\n",
    "print(f\"Model Performance:\")\n",
    "print(f\"Mean Absolute Error (MAE): {mae}\")\n",
    "print(f\"Mean Squared Error (MSE): {mse}\")\n",
    "print(f\"R² Score: {r2}\")\n"
   ]
  },
  {
   "cell_type": "code",
   "execution_count": 19,
   "id": "0bef8a50-a4d4-429a-aa6c-787d78c002a0",
   "metadata": {},
   "outputs": [
    {
     "name": "stdout",
     "output_type": "stream",
     "text": [
      "Random Forest Model Performance:\n",
      "Mean Absolute Error (MAE): 1.2300046511627911\n",
      "Mean Squared Error (MSE): 3.02430756906436\n",
      "R² Score: 0.3175077333778046\n"
     ]
    }
   ],
   "source": [
    "from sklearn.ensemble import RandomForestRegressor\n",
    "\n",
    "# Step 1: Initialize the Random Forest model\n",
    "rf_model = RandomForestRegressor(n_estimators=100, random_state=42)\n",
    "\n",
    "# Step 2: Train the model\n",
    "rf_model.fit(X_train, y_train)\n",
    "\n",
    "# Step 3: Make predictions\n",
    "y_pred_rf = rf_model.predict(X_test)\n",
    "\n",
    "# Step 4: Evaluate the model\n",
    "mae_rf = mean_absolute_error(y_test, y_pred_rf)\n",
    "mse_rf = mean_squared_error(y_test, y_pred_rf)\n",
    "r2_rf = r2_score(y_test, y_pred_rf)\n",
    "\n",
    "# Display results\n",
    "print(f\"Random Forest Model Performance:\")\n",
    "print(f\"Mean Absolute Error (MAE): {mae_rf}\")\n",
    "print(f\"Mean Squared Error (MSE): {mse_rf}\")\n",
    "print(f\"R² Score: {r2_rf}\")\n"
   ]
  },
  {
   "cell_type": "code",
   "execution_count": 20,
   "id": "e652d1a1-eca1-4fd9-96db-6c042ae5a847",
   "metadata": {},
   "outputs": [
    {
     "name": "stdout",
     "output_type": "stream",
     "text": [
      "Random Forest Model with Feature Scaling Performance:\n",
      "Mean Absolute Error (MAE): 1.2250465116279075\n",
      "Mean Squared Error (MSE): 2.9992366322336403\n",
      "R² Score: 0.32316546497857346\n"
     ]
    }
   ],
   "source": [
    "from sklearn.preprocessing import StandardScaler\n",
    "\n",
    "# Step 1: Initialize the scaler\n",
    "scaler = StandardScaler()\n",
    "\n",
    "# Step 2: Fit and transform X_train, transform X_test\n",
    "X_train_scaled = scaler.fit_transform(X_train)\n",
    "X_test_scaled = scaler.transform(X_test)\n",
    "\n",
    "# Step 3: Retrain the Random Forest model\n",
    "rf_model_scaled = RandomForestRegressor(n_estimators=100, random_state=42)\n",
    "rf_model_scaled.fit(X_train_scaled, y_train)\n",
    "\n",
    "# Step 4: Make predictions\n",
    "y_pred_rf_scaled = rf_model_scaled.predict(X_test_scaled)\n",
    "\n",
    "# Step 5: Evaluate the model again\n",
    "mae_rf_scaled = mean_absolute_error(y_test, y_pred_rf_scaled)\n",
    "mse_rf_scaled = mean_squared_error(y_test, y_pred_rf_scaled)\n",
    "r2_rf_scaled = r2_score(y_test, y_pred_rf_scaled)\n",
    "\n",
    "# Display results\n",
    "print(f\"Random Forest Model with Feature Scaling Performance:\")\n",
    "print(f\"Mean Absolute Error (MAE): {mae_rf_scaled}\")\n",
    "print(f\"Mean Squared Error (MSE): {mse_rf_scaled}\")\n",
    "print(f\"R² Score: {r2_rf_scaled}\")\n"
   ]
  },
  {
   "cell_type": "code",
   "execution_count": 21,
   "id": "df0ed776-b4da-4e7b-b82a-785179419491",
   "metadata": {},
   "outputs": [
    {
     "ename": "ModuleNotFoundError",
     "evalue": "No module named 'xgboost'",
     "output_type": "error",
     "traceback": [
      "\u001b[1;31m---------------------------------------------------------------------------\u001b[0m",
      "\u001b[1;31mModuleNotFoundError\u001b[0m                       Traceback (most recent call last)",
      "Cell \u001b[1;32mIn[21], line 1\u001b[0m\n\u001b[1;32m----> 1\u001b[0m \u001b[38;5;28;01mfrom\u001b[39;00m \u001b[38;5;21;01mxgboost\u001b[39;00m \u001b[38;5;28;01mimport\u001b[39;00m XGBRegressor\n\u001b[0;32m      3\u001b[0m \u001b[38;5;66;03m# Step 1: Initialize the XGBoost model\u001b[39;00m\n\u001b[0;32m      4\u001b[0m xgb_model \u001b[38;5;241m=\u001b[39m XGBRegressor(n_estimators\u001b[38;5;241m=\u001b[39m\u001b[38;5;241m100\u001b[39m, learning_rate\u001b[38;5;241m=\u001b[39m\u001b[38;5;241m0.1\u001b[39m, random_state\u001b[38;5;241m=\u001b[39m\u001b[38;5;241m42\u001b[39m)\n",
      "\u001b[1;31mModuleNotFoundError\u001b[0m: No module named 'xgboost'"
     ]
    }
   ],
   "source": [
    "from xgboost import XGBRegressor\n",
    "\n",
    "# Step 1: Initialize the XGBoost model\n",
    "xgb_model = XGBRegressor(n_estimators=100, learning_rate=0.1, random_state=42)\n",
    "\n",
    "# Step 2: Train the model\n",
    "xgb_model.fit(X_train_scaled, y_train)\n",
    "\n",
    "# Step 3: Make predictions\n",
    "y_pred_xgb = xgb_model.predict(X_test_scaled)\n",
    "\n",
    "# Step 4: Evaluate performance\n",
    "mae_xgb = mean_absolute_error(y_test, y_pred_xgb)\n",
    "mse_xgb = mean_squared_error(y_test, y_pred_xgb)\n",
    "r2_xgb = r2_score(y_test, y_pred_xgb)\n",
    "\n",
    "# Display results\n",
    "print(f\"XGBoost Model Performance:\")\n",
    "print(f\"Mean Absolute Error (MAE): {mae_xgb}\")\n",
    "print(f\"Mean Squared Error (MSE): {mse_xgb}\")\n",
    "print(f\"R² Score: {r2_xgb}\")\n"
   ]
  },
  {
   "cell_type": "code",
   "execution_count": 22,
   "id": "990a11b4-735b-48a0-87f1-4dae6ccaba9a",
   "metadata": {},
   "outputs": [
    {
     "name": "stdout",
     "output_type": "stream",
     "text": [
      "Collecting xgboost\n",
      "  Downloading xgboost-2.1.4-py3-none-win_amd64.whl.metadata (2.1 kB)\n",
      "Requirement already satisfied: numpy in c:\\users\\user\\documents\\1602\\lib\\site-packages (from xgboost) (1.26.4)\n",
      "Requirement already satisfied: scipy in c:\\users\\user\\documents\\1602\\lib\\site-packages (from xgboost) (1.13.1)\n",
      "Downloading xgboost-2.1.4-py3-none-win_amd64.whl (124.9 MB)\n",
      "   ---------------------------------------- 0.0/124.9 MB ? eta -:--:--\n",
      "    --------------------------------------- 1.8/124.9 MB 10.1 MB/s eta 0:00:13\n",
      "   - -------------------------------------- 3.7/124.9 MB 9.1 MB/s eta 0:00:14\n",
      "   - -------------------------------------- 5.8/124.9 MB 9.3 MB/s eta 0:00:13\n",
      "   -- ------------------------------------- 7.6/124.9 MB 9.2 MB/s eta 0:00:13\n",
      "   --- ------------------------------------ 9.7/124.9 MB 9.3 MB/s eta 0:00:13\n",
      "   --- ------------------------------------ 11.5/124.9 MB 9.2 MB/s eta 0:00:13\n",
      "   ---- ----------------------------------- 13.4/124.9 MB 9.2 MB/s eta 0:00:13\n",
      "   ----- ---------------------------------- 16.0/124.9 MB 9.2 MB/s eta 0:00:12\n",
      "   ----- ---------------------------------- 18.1/124.9 MB 9.2 MB/s eta 0:00:12\n",
      "   ------ --------------------------------- 19.9/124.9 MB 9.3 MB/s eta 0:00:12\n",
      "   ------ --------------------------------- 21.8/124.9 MB 9.2 MB/s eta 0:00:12\n",
      "   ------- -------------------------------- 23.6/124.9 MB 9.2 MB/s eta 0:00:11\n",
      "   -------- ------------------------------- 25.7/124.9 MB 9.2 MB/s eta 0:00:11\n",
      "   -------- ------------------------------- 27.5/124.9 MB 9.2 MB/s eta 0:00:11\n",
      "   --------- ------------------------------ 29.4/124.9 MB 9.2 MB/s eta 0:00:11\n",
      "   ---------- ----------------------------- 31.5/124.9 MB 9.2 MB/s eta 0:00:11\n",
      "   ---------- ----------------------------- 33.6/124.9 MB 9.2 MB/s eta 0:00:10\n",
      "   ----------- ---------------------------- 35.4/124.9 MB 9.2 MB/s eta 0:00:10\n",
      "   ----------- ---------------------------- 37.2/124.9 MB 9.2 MB/s eta 0:00:10\n",
      "   ------------ --------------------------- 39.1/124.9 MB 9.2 MB/s eta 0:00:10\n",
      "   ------------ --------------------------- 40.4/124.9 MB 9.1 MB/s eta 0:00:10\n",
      "   ------------- -------------------------- 41.4/124.9 MB 9.0 MB/s eta 0:00:10\n",
      "   ------------- -------------------------- 43.0/124.9 MB 8.8 MB/s eta 0:00:10\n",
      "   -------------- ------------------------- 45.1/124.9 MB 8.9 MB/s eta 0:00:10\n",
      "   --------------- ------------------------ 46.9/124.9 MB 8.9 MB/s eta 0:00:09\n",
      "   --------------- ------------------------ 49.0/124.9 MB 8.9 MB/s eta 0:00:09\n",
      "   ---------------- ----------------------- 50.9/124.9 MB 8.9 MB/s eta 0:00:09\n",
      "   ---------------- ----------------------- 53.0/124.9 MB 8.9 MB/s eta 0:00:09\n",
      "   ----------------- ---------------------- 54.8/124.9 MB 8.9 MB/s eta 0:00:08\n",
      "   ------------------ --------------------- 56.6/124.9 MB 8.9 MB/s eta 0:00:08\n",
      "   ------------------ --------------------- 58.7/124.9 MB 8.9 MB/s eta 0:00:08\n",
      "   ------------------- -------------------- 60.6/124.9 MB 9.0 MB/s eta 0:00:08\n",
      "   ------------------- -------------------- 62.4/124.9 MB 9.0 MB/s eta 0:00:07\n",
      "   -------------------- ------------------- 64.2/124.9 MB 9.0 MB/s eta 0:00:07\n",
      "   --------------------- ------------------ 66.3/124.9 MB 9.0 MB/s eta 0:00:07\n",
      "   --------------------- ------------------ 68.2/124.9 MB 9.0 MB/s eta 0:00:07\n",
      "   ---------------------- ----------------- 70.3/124.9 MB 9.0 MB/s eta 0:00:07\n",
      "   ----------------------- ---------------- 72.1/124.9 MB 9.0 MB/s eta 0:00:06\n",
      "   ----------------------- ---------------- 73.9/124.9 MB 9.0 MB/s eta 0:00:06\n",
      "   ------------------------ --------------- 76.0/124.9 MB 9.0 MB/s eta 0:00:06\n",
      "   ------------------------ --------------- 77.9/124.9 MB 9.0 MB/s eta 0:00:06\n",
      "   ------------------------- -------------- 79.7/124.9 MB 9.0 MB/s eta 0:00:06\n",
      "   -------------------------- ------------- 81.8/124.9 MB 9.0 MB/s eta 0:00:05\n",
      "   -------------------------- ------------- 83.6/124.9 MB 9.0 MB/s eta 0:00:05\n",
      "   --------------------------- ------------ 85.7/124.9 MB 9.0 MB/s eta 0:00:05\n",
      "   ---------------------------- ----------- 87.6/124.9 MB 9.0 MB/s eta 0:00:05\n",
      "   ---------------------------- ----------- 89.4/124.9 MB 9.0 MB/s eta 0:00:04\n",
      "   ----------------------------- ---------- 91.5/124.9 MB 9.0 MB/s eta 0:00:04\n",
      "   ----------------------------- ---------- 93.3/124.9 MB 9.0 MB/s eta 0:00:04\n",
      "   ------------------------------ --------- 95.4/124.9 MB 9.0 MB/s eta 0:00:04\n",
      "   ------------------------------- -------- 97.3/124.9 MB 9.0 MB/s eta 0:00:04\n",
      "   ------------------------------- -------- 99.1/124.9 MB 9.0 MB/s eta 0:00:03\n",
      "   -------------------------------- ------- 100.9/124.9 MB 9.0 MB/s eta 0:00:03\n",
      "   -------------------------------- ------- 103.0/124.9 MB 9.0 MB/s eta 0:00:03\n",
      "   --------------------------------- ------ 104.9/124.9 MB 9.0 MB/s eta 0:00:03\n",
      "   ---------------------------------- ----- 106.7/124.9 MB 9.1 MB/s eta 0:00:03\n",
      "   ---------------------------------- ----- 108.8/124.9 MB 9.1 MB/s eta 0:00:02\n",
      "   ----------------------------------- ---- 110.6/124.9 MB 9.1 MB/s eta 0:00:02\n",
      "   ------------------------------------ --- 112.7/124.9 MB 9.1 MB/s eta 0:00:02\n",
      "   ------------------------------------ --- 114.8/124.9 MB 9.1 MB/s eta 0:00:02\n",
      "   ------------------------------------- -- 116.7/124.9 MB 9.1 MB/s eta 0:00:01\n",
      "   ------------------------------------- -- 118.5/124.9 MB 9.1 MB/s eta 0:00:01\n",
      "   -------------------------------------- - 120.6/124.9 MB 9.1 MB/s eta 0:00:01\n",
      "   ---------------------------------------  122.4/124.9 MB 9.1 MB/s eta 0:00:01\n",
      "   ---------------------------------------  124.3/124.9 MB 9.1 MB/s eta 0:00:01\n",
      "   ---------------------------------------  124.8/124.9 MB 9.1 MB/s eta 0:00:01\n",
      "   ---------------------------------------  124.8/124.9 MB 9.1 MB/s eta 0:00:01\n",
      "   ---------------------------------------  124.8/124.9 MB 9.1 MB/s eta 0:00:01\n",
      "   ---------------------------------------- 124.9/124.9 MB 8.7 MB/s eta 0:00:00\n",
      "Installing collected packages: xgboost\n",
      "Successfully installed xgboost-2.1.4\n"
     ]
    }
   ],
   "source": [
    "!pip install xgboost\n"
   ]
  },
  {
   "cell_type": "code",
   "execution_count": 23,
   "id": "b68f920b-915b-4c2f-b213-febd775a42d8",
   "metadata": {},
   "outputs": [
    {
     "name": "stdout",
     "output_type": "stream",
     "text": [
      "XGBoost Model Performance:\n",
      "Mean Absolute Error (MAE): 1.503878252894379\n",
      "Mean Squared Error (MSE): 3.997235999704813\n",
      "R² Score: 0.09794801111899776\n"
     ]
    }
   ],
   "source": [
    "from xgboost import XGBRegressor\n",
    "\n",
    "# Step 1: Initialize the XGBoost model\n",
    "xgb_model = XGBRegressor(n_estimators=100, learning_rate=0.1, random_state=42)\n",
    "\n",
    "# Step 2: Train the model\n",
    "xgb_model.fit(X_train_scaled, y_train)\n",
    "\n",
    "# Step 3: Make predictions\n",
    "y_pred_xgb = xgb_model.predict(X_test_scaled)\n",
    "\n",
    "# Step 4: Evaluate performance\n",
    "mae_xgb = mean_absolute_error(y_test, y_pred_xgb)\n",
    "mse_xgb = mean_squared_error(y_test, y_pred_xgb)\n",
    "r2_xgb = r2_score(y_test, y_pred_xgb)\n",
    "\n",
    "# Display results\n",
    "print(f\"XGBoost Model Performance:\")\n",
    "print(f\"Mean Absolute Error (MAE): {mae_xgb}\")\n",
    "print(f\"Mean Squared Error (MSE): {mse_xgb}\")\n",
    "print(f\"R² Score: {r2_xgb}\")\n"
   ]
  },
  {
   "cell_type": "code",
   "execution_count": 24,
   "id": "93eacaa6-ef46-4eb3-98b4-264506787785",
   "metadata": {},
   "outputs": [
    {
     "data": {
      "image/png": "[encoded data removed]",
      "text/plain": [
       "<Figure size 1000x600 with 1 Axes>"
      ]
     },
     "metadata": {},
     "output_type": "display_data"
    }
   ],
   "source": [
    "import matplotlib.pyplot as plt\n",
    "import numpy as np\n",
    "\n",
    "# Get feature importance from Random Forest\n",
    "feature_importance = rf_model_scaled.feature_importances_\n",
    "\n",
    "# Sort and plot feature importance\n",
    "sorted_idx = np.argsort(feature_importance)\n",
    "plt.figure(figsize=(10, 6))\n",
    "plt.barh(np.array(X_train.columns)[sorted_idx], feature_importance[sorted_idx], color='skyblue')\n",
    "plt.xlabel(\"Feature Importance Score\")\n",
    "plt.title(\"Feature Importance from Random Forest Model\")\n",
    "plt.show()\n"
   ]
  },
  {
   "cell_type": "code",
   "execution_count": 25,
   "id": "a3fbe56f-641b-4fa1-97ec-1a2917e7a6fb",
   "metadata": {},
   "outputs": [
    {
     "name": "stdout",
     "output_type": "stream",
     "text": [
      "\n",
      "Feature Importance Scores:\n",
      "child's_speech_not_clear: 0.2153\n",
      "difficulty_in_seeing: 0.1885\n",
      "fits_like_other_slowness: 0.1722\n",
      "suffers_from_convulsions: 0.0977\n",
      "can't_understand_words: 0.0905\n",
      "difficulty_in_understanding_the_child: 0.0872\n",
      "number_of_children: 0.0456\n",
      "difficulty_in_walking/moving_hands: 0.0455\n",
      "late_in_standing_up_and_walking: 0.0439\n",
      "difficulty_in_hearing: 0.0136\n",
      "has_at_least_one_developmental_difficulty: 0.0000\n"
     ]
    }
   ],
   "source": [
    "# Print feature importance values\n",
    "feature_importance_dict = dict(zip(X_train.columns, rf_model_scaled.feature_importances_))\n",
    "\n",
    "# Sort features by importance\n",
    "sorted_features = sorted(feature_importance_dict.items(), key=lambda x: x[1], reverse=True)\n",
    "\n",
    "# Print feature importance scores\n",
    "print(\"\\nFeature Importance Scores:\")\n",
    "for feature, score in sorted_features:\n",
    "    print(f\"{feature}: {score:.4f}\")\n"
   ]
  },
  {
   "cell_type": "code",
   "execution_count": 26,
   "id": "ac585874-de87-44b0-9762-529391bfc808",
   "metadata": {},
   "outputs": [
    {
     "name": "stdout",
     "output_type": "stream",
     "text": [
      "Refined Random Forest Model Performance:\n",
      "Mean Absolute Error (MAE): 1.2527418604651166\n",
      "Mean Squared Error (MSE): 3.064696633585722\n",
      "R² Score: 0.30839317622300355\n"
     ]
    }
   ],
   "source": [
    "# Drop the least important features\n",
    "X_train_refined = X_train.drop(columns=[\"difficulty_in_hearing\", \"has_at_least_one_developmental_difficulty\"])\n",
    "X_test_refined = X_test.drop(columns=[\"difficulty_in_hearing\", \"has_at_least_one_developmental_difficulty\"])\n",
    "\n",
    "# Retrain the Random Forest model with refined features\n",
    "rf_model_refined = RandomForestRegressor(n_estimators=100, random_state=42)\n",
    "rf_model_refined.fit(X_train_refined, y_train)\n",
    "\n",
    "# Make predictions\n",
    "y_pred_rf_refined = rf_model_refined.predict(X_test_refined)\n",
    "\n",
    "# Evaluate performance\n",
    "mae_rf_refined = mean_absolute_error(y_test, y_pred_rf_refined)\n",
    "mse_rf_refined = mean_squared_error(y_test, y_pred_rf_refined)\n",
    "r2_rf_refined = r2_score(y_test, y_pred_rf_refined)\n",
    "\n",
    "# Display new results\n",
    "print(f\"Refined Random Forest Model Performance:\")\n",
    "print(f\"Mean Absolute Error (MAE): {mae_rf_refined}\")\n",
    "print(f\"Mean Squared Error (MSE): {mse_rf_refined}\")\n",
    "print(f\"R² Score: {r2_rf_refined}\")\n"
   ]
  },
  {
   "cell_type": "code",
   "execution_count": 27,
   "id": "2a0a002e-37eb-4008-b381-dc86c3a86159",
   "metadata": {},
   "outputs": [
    {
     "name": "stdout",
     "output_type": "stream",
     "text": [
      "\n",
      "Best Hyperparameters: {'max_depth': None, 'min_samples_leaf': 4, 'min_samples_split': 10, 'n_estimators': 100}\n",
      "\n",
      "Optimized Random Forest Model Performance:\n",
      "Mean Absolute Error (MAE): 1.2919506986910332\n",
      "Mean Squared Error (MSE): 3.333583765712676\n",
      "R² Score: 0.24771370362305223\n"
     ]
    }
   ],
   "source": [
    "from sklearn.model_selection import GridSearchCV\n",
    "\n",
    "# Define the hyperparameter grid\n",
    "param_grid = {\n",
    "    'n_estimators': [50, 100, 200],  # Number of trees\n",
    "    'max_depth': [None, 10, 20],  # Depth of each tree\n",
    "    'min_samples_split': [2, 5, 10],  # Minimum samples required to split\n",
    "    'min_samples_leaf': [1, 2, 4]  # Minimum samples in leaf node\n",
    "}\n",
    "\n",
    "# Initialize the Random Forest model\n",
    "rf = RandomForestRegressor(random_state=42)\n",
    "\n",
    "# Run Grid Search to find the best parameters\n",
    "grid_search = GridSearchCV(rf, param_grid, cv=5, scoring='r2', n_jobs=-1)\n",
    "grid_search.fit(X_train_refined, y_train)\n",
    "\n",
    "# Get the best parameters\n",
    "best_params = grid_search.best_params_\n",
    "print(\"\\nBest Hyperparameters:\", best_params)\n",
    "\n",
    "# Train a new Random Forest model with the best parameters\n",
    "best_rf = RandomForestRegressor(**best_params, random_state=42)\n",
    "best_rf.fit(X_train_refined, y_train)\n",
    "\n",
    "# Make predictions\n",
    "y_pred_best_rf = best_rf.predict(X_test_refined)\n",
    "\n",
    "# Evaluate performance\n",
    "mae_best_rf = mean_absolute_error(y_test, y_pred_best_rf)\n",
    "mse_best_rf = mean_squared_error(y_test, y_pred_best_rf)\n",
    "r2_best_rf = r2_score(y_test, y_pred_best_rf)\n",
    "\n",
    "# Display new results\n",
    "print(f\"\\nOptimized Random Forest Model Performance:\")\n",
    "print(f\"Mean Absolute Error (MAE): {mae_best_rf}\")\n",
    "print(f\"Mean Squared Error (MSE): {mse_best_rf}\")\n",
    "print(f\"R² Score: {r2_best_rf}\")\n"
   ]
  },
  {
   "cell_type": "code",
   "execution_count": 28,
   "id": "2735745a-ad85-4c88-bb69-8fffc53d219c",
   "metadata": {},
   "outputs": [
    {
     "name": "stdout",
     "output_type": "stream",
     "text": [
      "Model and feature importance saved successfully!\n"
     ]
    }
   ],
   "source": [
    "import joblib\n",
    "\n",
    "# Save the trained model\n",
    "joblib.dump(best_rf, \"neurodevelopmental_severity_model.pkl\")\n",
    "\n",
    "# Save feature importance as a CSV file\n",
    "feature_importance_df = pd.DataFrame(sorted_features, columns=[\"Feature\", \"Importance\"])\n",
    "feature_importance_df.to_csv(\"feature_importance.csv\", index=False)\n",
    "\n",
    "print(\"Model and feature importance saved successfully!\")\n"
   ]
  },
  {
   "cell_type": "code",
   "execution_count": 29,
   "id": "1ae472f8-e944-4675-aaa9-b8ba099c159f",
   "metadata": {},
   "outputs": [
    {
     "name": "stdout",
     "output_type": "stream",
     "text": [
      "Current Jupyter Save Location: C:\\Users\\User\n",
      "\n",
      "Files in This Directory:\n",
      "['.ai-navigator', '.anaconda', '.conda', '.condarc', '.continuum', '.ipynb_checkpoints', '.ipython', '.jupyter', '.matplotlib', '.ms-ad', 'anaconda3', 'anaconda_projects', 'AppData', 'Application Data', 'archive (1).zip', 'archive (2).zip', 'Contacts', 'Cookies', 'dengue_2021.csv', 'Desktop', 'Documents', 'Downloads', 'Favorites', 'feature_importance.csv', 'First Draft.ipynb', 'health-equity-monitor-indicators-for-sri-lanka-48.csv', 'IntelGraphicsProfiles', 'Links', 'Local Settings', 'Music', 'My Documents', 'NetHood', 'neurodevelopmental_severity_model.pkl', 'NTUSER.DAT', 'ntuser.dat.LOG1', 'ntuser.dat.LOG2', 'NTUSER.DAT{a2332f18-cdbf-11ec-8680-002248483d79}.TM.blf', 'NTUSER.DAT{a2332f18-cdbf-11ec-8680-002248483d79}.TMContainer00000000000000000001.regtrans-ms', 'NTUSER.DAT{a2332f18-cdbf-11ec-8680-002248483d79}.TMContainer00000000000000000002.regtrans-ms', 'ntuser.ini', 'OneDrive', 'Pictures', 'PrintHood', 'Recent', 'Saved Games', 'Searches', 'SendTo', 'Start Menu', 'Templates', 'Untitled.ipynb', 'untitled.py', 'untitled.txt', 'Untitled1.ipynb', 'Untitled2.ipynb', 'Untitled3.ipynb', 'Untitled4.ipynb', 'Untitled5.ipynb', 'Untitled6.ipynb', 'Videos', 'Wavesor Software']\n"
     ]
    }
   ],
   "source": [
    "import os\n",
    "\n",
    "# Print the current working directory (where files were saved)\n",
    "print(\"Current Jupyter Save Location:\", os.getcwd())\n",
    "\n",
    "# List all files in the directory\n",
    "print(\"\\nFiles in This Directory:\")\n",
    "print(os.listdir(os.getcwd()))\n"
   ]
  },
  {
   "cell_type": "code",
   "execution_count": null,
   "id": "2d13f5e7-cf73-4811-a752-bc63bb5b73fa",
   "metadata": {},
   "outputs": [],
   "source": []
  }
 ],
 "metadata": {
  "kernelspec": {
   "display_name": "Python 3 (ipykernel)",
   "language": "python",
   "name": "python3"
  },
  "language_info": {
   "codemirror_mode": {
    "name": "ipython",
    "version": 3
   },
   "file_extension": ".py",
   "mimetype": "text/x-python",
   "name": "python",
   "nbconvert_exporter": "python",
   "pygments_lexer": "ipython3",
   "version": "3.12.7"
  }
 },
 "nbformat": 4,
 "nbformat_minor": 5
}
